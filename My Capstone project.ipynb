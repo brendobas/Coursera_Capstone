{
    "cells": [
        {
            "cell_type": "markdown",
            "metadata": {
                "collapsed": true
            },
            "source": "# INTRODUCTION\n\nLagos is Nigeria\u2019s financial capital, and one of Africa\u2019s most populous cities. Like many cities in Nigeria, Lagos is experiencing high urbanization, with its mainly young population upwardly mobile and needing services that can improve the work life balance. Currently, there is a proliferation of food outlets and delivery services.\n\nThis project will look at the most probable location for a company that wants to take advantage of the growing food and delivery infrastructure, to venture into cooked food delivery only. The company will receive orders from clients and source it from different food vendors.\n"
        },
        {
            "cell_type": "code",
            "execution_count": null,
            "metadata": {},
            "outputs": [],
            "source": ""
        }
    ],
    "metadata": {
        "kernelspec": {
            "display_name": "Python 3.7",
            "language": "python",
            "name": "python3"
        },
        "language_info": {
            "codemirror_mode": {
                "name": "ipython",
                "version": 3
            },
            "file_extension": ".py",
            "mimetype": "text/x-python",
            "name": "python",
            "nbconvert_exporter": "python",
            "pygments_lexer": "ipython3",
            "version": "3.7.9"
        }
    },
    "nbformat": 4,
    "nbformat_minor": 1
}